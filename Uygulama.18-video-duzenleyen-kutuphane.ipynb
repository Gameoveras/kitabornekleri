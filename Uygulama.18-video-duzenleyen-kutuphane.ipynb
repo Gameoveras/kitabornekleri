{
 "cells": [
  {
   "cell_type": "code",
   "execution_count": 34,
   "id": "7b69740b",
   "metadata": {},
   "outputs": [
    {
     "name": "stdout",
     "output_type": "stream",
     "text": [
      "-------------------------------------------------- Video Editleme Programına Hoşgeldiniz --------------------------------------------------\n",
      "Ne yapmak istersiniz: \n",
      " 1-)Videomu döndürmek 2-) Videomu kırp \n",
      "  3-) Videomu başka bir videomla birleştir \n",
      " 4-) Videomu aynala \n",
      " 5-)Videomum şu saniye de başlamasını ayarlamak istiyorum  \n",
      " 5\n",
      "Hangi saniyeden başlatmak istiyorsunuz: \n",
      "5\n"
     ]
    },
    {
     "name": "stderr",
     "output_type": "stream",
     "text": [
      "t:   0%|          | 0/469 [00:00<?, ?it/s, now=None]                "
     ]
    },
    {
     "name": "stdout",
     "output_type": "stream",
     "text": [
      "Moviepy - Building video __temp__.mp4.\n",
      "MoviePy - Writing audio in __temp__TEMP_MPY_wvf_snd.mp3\n",
      "MoviePy - Done.\n",
      "Moviepy - Writing video __temp__.mp4\n",
      "\n"
     ]
    },
    {
     "name": "stderr",
     "output_type": "stream",
     "text": [
      "                                                              \r"
     ]
    },
    {
     "name": "stdout",
     "output_type": "stream",
     "text": [
      "Moviepy - Done !\n",
      "Moviepy - video ready __temp__.mp4\n",
      "Videonun başlangıçtan önceki bölümüne bir nesne eklemek ister misiniz: (E/H) \n",
      " e\n",
      "Ne eklemek istersiniz: 1-) Ses 2-) Resim \n",
      "2\n",
      "hangi resmi eklemek istiyorsunuz(.jpg): \n",
      " kedi\n",
      "Resim ekranda kaç saniye dursun: \n",
      "5\n",
      "Resim hangi saniyede ekranda dursun: \n",
      "0\n"
     ]
    },
    {
     "name": "stderr",
     "output_type": "stream",
     "text": [
      "t:   0%|          | 0/471 [00:00<?, ?it/s, now=None]                "
     ]
    },
    {
     "name": "stdout",
     "output_type": "stream",
     "text": [
      "Moviepy - Building video __temp__.mp4.\n",
      "MoviePy - Writing audio in __temp__TEMP_MPY_wvf_snd.mp3\n",
      "MoviePy - Done.\n",
      "Moviepy - Writing video __temp__.mp4\n",
      "\n"
     ]
    },
    {
     "name": "stderr",
     "output_type": "stream",
     "text": [
      "                                                              \r"
     ]
    },
    {
     "name": "stdout",
     "output_type": "stream",
     "text": [
      "Moviepy - Done !\n",
      "Moviepy - video ready __temp__.mp4\n"
     ]
    }
   ],
   "source": [
    "from moviepy.editor import *\n",
    "\n",
    "video = VideoFileClip(\"1.mp4\")\n",
    "\n",
    "def dondur():\n",
    "    kac = int(input(\"Videonuzu kaç derece döndürmek istersiniz: \\n\"))\n",
    "    dondur = video.rotate(kac)\n",
    "    dondur.ipython_display()\n",
    "\n",
    "def kırp():\n",
    "    sayi1 = int(input(\"Hangi saniyeden kırpılmasını istiyorsunuz?: \\n \"))\n",
    "    sayi2 = int(input(\"Hangi saniyeye kadar kırpılmasını istiyorsunuz?: \\n \"))\n",
    "    kırp = video.subclip(sayi1,sayi2)\n",
    "    kırp.ipython_display()\n",
    "\n",
    "def birlestir():\n",
    "    hangi = input(\"hangi video ile birleştirmek istiyorsunuz(.mp4): \\n \")\n",
    "    video2 = VideoFileClip(f\"{hangi}.mp4\")\n",
    "    sonuc = concatenate_videoclips([video,video2])\n",
    "    sonuc.ipython_display()\n",
    "    \n",
    "def aynala():\n",
    "    video2 = video.fx( vfx.mirror_x)\n",
    "    video3 = video.fx( vfx.mirror_y)\n",
    "    video4 = video.resize(0.50)\n",
    "    sonuc = clips_array([[video, video2],\n",
    "                          [video3, video4]])\n",
    "    sonuc.ipython_display()\n",
    "    \n",
    "def basla():\n",
    "    saniye = int(input(\"Hangi saniyeden başlatmak istiyorsunuz: \\n\"))\n",
    "    baslat = video.set_start(saniye)\n",
    "    sonuc = CompositeVideoClip([baslat])\n",
    "    b = sonuc.ipython_display()\n",
    "    secim = input(\"Videonun başlangıçtan önceki bölümüne bir nesne eklemek ister misiniz: (E/H) \\n \")\n",
    "    if secim == \"E\" or secim == \"e\":\n",
    "        secims = input(\"Ne eklemek istersiniz: 1-) Ses 2-) Resim \\n\")\n",
    "        if secims == \"1\":\n",
    "            ses()\n",
    "        elif secims == \"2\":\n",
    "            resim()\n",
    "        else:\n",
    "            print(\"Hatalı bir tuşlama yaptınız.\")\n",
    "    elif secim == \"h\" or secim == \"H\":\n",
    "        print(\"Program sonlandı.\")\n",
    "    else:\n",
    "        print(\"Hatalı bir tuşlama yaptınız.\")\n",
    "    \n",
    "def ses():\n",
    "    hangi = input(\"hangi sesi eklemek istiyorsunuz(.mp3): \\n \")\n",
    "    video1 = VideoFileClip(\"__temp__.mp4\")\n",
    "    ses = AudioFileClip(f\"{hangi}.mp3\")\n",
    "    sonuc = video1.set_audio(ses)\n",
    "    sonuc.ipython_display()\n",
    "\n",
    "def resim():\n",
    "    hangi = input(\"hangi resmi eklemek istiyorsunuz(.jpg): \\n \")\n",
    "    video1 = VideoFileClip(\"__temp__.mp4\")\n",
    "    saniye = int(input(\"Resim ekranda kaç saniye dursun: \\n\"))\n",
    "    basla = int(input(\"Resim hangi saniyede ekranda dursun: \\n\"))\n",
    "    kedi = (ImageClip(f\"{hangi}.jpg\")\n",
    "            .set_duration(saniye)\n",
    "            .set_start(basla)\n",
    "            .set_position((\"center\", \"center\")))\n",
    "    sonuc = CompositeVideoClip([video1, kedi])\n",
    "    sonuc.ipython_display()\n",
    "\n",
    "\n",
    "def anamenu():\n",
    "    print(\"-\" * 50, \"Video Editleme Programına Hoşgeldiniz\" ,\"-\" * 50)\n",
    "    secim = input(\"Ne yapmak istersiniz: \\n 1-)Videomu döndürmek 2-) Videomu kırp \\n  3-) Videomu başka bir videomla birleştir \\n 4-) Videomu aynala \\n 5-)Videomum şu saniye de başlamasını ayarlamak istiyorum  \\n \")\n",
    "    if secim == \"1\":\n",
    "        dondur()\n",
    "    elif secim == \"2\":\n",
    "        kırp()\n",
    "    elif secim == \"3\":\n",
    "        birlestir()\n",
    "    elif secim == \"4\":\n",
    "        aynala()\n",
    "    elif secim == \"5\":\n",
    "        basla()\n",
    "    else:\n",
    "        print(\"Hatalı bir tuşlama yaptınız.\")\n",
    "        \n",
    "anamenu()"
   ]
  },
  {
   "cell_type": "code",
   "execution_count": null,
   "id": "a8af29e4",
   "metadata": {},
   "outputs": [],
   "source": []
  },
  {
   "cell_type": "code",
   "execution_count": null,
   "id": "e08bf200",
   "metadata": {},
   "outputs": [],
   "source": []
  }
 ],
 "metadata": {
  "kernelspec": {
   "display_name": "Python 3",
   "language": "python",
   "name": "python3"
  },
  "language_info": {
   "codemirror_mode": {
    "name": "ipython",
    "version": 3
   },
   "file_extension": ".py",
   "mimetype": "text/x-python",
   "name": "python",
   "nbconvert_exporter": "python",
   "pygments_lexer": "ipython3",
   "version": "3.8.8"
  }
 },
 "nbformat": 4,
 "nbformat_minor": 5
}
