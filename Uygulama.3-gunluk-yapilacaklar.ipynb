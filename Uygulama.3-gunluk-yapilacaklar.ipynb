{
 "cells": [
  {
   "cell_type": "code",
   "execution_count": null,
   "id": "581b4879",
   "metadata": {},
   "outputs": [],
   "source": [
    "liste = []\n",
    "i = 0 \n",
    "\n",
    "while(i<3):\n",
    "    secim = input(\"Bugün ne yapacaksın? \")\n",
    "    liste.append(secim)\n",
    "    i = i + 1\n",
    "for i in liste:\n",
    "    ths = open(\"gunluk.txt\", \"a\")\n",
    "    ths.write(f\"{liste}\")\n",
    "    ths.close()\n",
    "    print(i)\n"
   ]
  },
  {
   "cell_type": "code",
   "execution_count": null,
   "id": "cfa28408",
   "metadata": {},
   "outputs": [],
   "source": [
    "sozluk = {}\n",
    "\n",
    "sozluk[\"13:00\"] = \"Duş alacağım.\"\n",
    "\n",
    "sozluk[\"14:00\"] = \"Kodlama yapacağım.\"\n",
    "\n",
    "sozluk[\"15:00\"] = \"Yürüyüş yapacağım.\"\n",
    "    \n",
    "adm = open(\"gunluk3.txt\", \"w\")\n",
    "adm.write(f\"{sozluk}\")\n",
    "adm.close()"
   ]
  },
  {
   "cell_type": "code",
   "execution_count": null,
   "id": "101c4f50",
   "metadata": {},
   "outputs": [],
   "source": []
  }
 ],
 "metadata": {
  "kernelspec": {
   "display_name": "Python 3",
   "language": "python",
   "name": "python3"
  },
  "language_info": {
   "codemirror_mode": {
    "name": "ipython",
    "version": 3
   },
   "file_extension": ".py",
   "mimetype": "text/x-python",
   "name": "python",
   "nbconvert_exporter": "python",
   "pygments_lexer": "ipython3",
   "version": "3.8.8"
  }
 },
 "nbformat": 4,
 "nbformat_minor": 5
}
