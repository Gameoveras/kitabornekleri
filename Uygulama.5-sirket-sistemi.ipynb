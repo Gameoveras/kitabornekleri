{
 "cells": [
  {
   "cell_type": "code",
   "execution_count": 18,
   "id": "5d476b7f",
   "metadata": {},
   "outputs": [
    {
     "name": "stdout",
     "output_type": "stream",
     "text": [
      "-------------------------------------------------- Şirketimizin Kontrol Odasına Hoşgeliniz  --------------------------------------------------\n",
      "Ne yapmak isterseniz? \n",
      " 1-) Kayıt Ekle \n",
      " 2-) Kayıtları Sırala \n",
      " 3-) Kayıt Ara \n",
      " 4-) Kayıt Sil \n",
      " 5-) Maaş Güncelle \n",
      " 6-) Çıkış Yap \n",
      "543\n",
      "Hatalı bir tuşlama yaptınız. \n",
      "-------------------------------------------------- Şirketimizin Kontrol Odasına Hoşgeliniz  --------------------------------------------------\n",
      "Ne yapmak isterseniz? \n",
      " 1-) Kayıt Ekle \n",
      " 2-) Kayıtları Sırala \n",
      " 3-) Kayıt Ara \n",
      " 4-) Kayıt Sil \n",
      " 5-) Maaş Güncelle \n",
      " 6-) Çıkış Yap \n",
      "6\n",
      "İyi günler dileriz.\n"
     ]
    }
   ],
   "source": [
    "import sqlite3\n",
    "try:\n",
    "    baglanti=sqlite3.connect('ulkeler.db')\n",
    "except:\n",
    "    print(\"Veritabanı bağlantısı yapılamadı.\")\n",
    "def ekle(a,b,c,d,e):\n",
    "    try:\n",
    "        baglanti.execute(\"INSERT INTO kisi(adi,soyadi,yas,maas,yetki) VALUES ('{}','{}','{}',{},'{}')\".format(a,b,c,d,e))\n",
    "        baglanti.commit()\n",
    "    except:\n",
    "        print(\"Ekleme yapılmasında bir hata oluştu.\")\n",
    "    finally:\n",
    "        print(\"Başarıyla kayıt eklendi.\")\n",
    "\n",
    "def iste():\n",
    "    ad = input(\"Adınızı girin: \")\n",
    "    soyad = input(\"Soyadını girin: \")\n",
    "    yas = int(input(\"Yaşını girin: \"))\n",
    "    maas = int(input(\"Maaşını girin: \"))\n",
    "    yetki = input(\"Yetkisini girin: \")\n",
    "    ekle(ad,soyad,yas,maas,yetki)\n",
    "    \n",
    "def sırala():\n",
    "    kayitlar=baglanti.execute(\"SELECT * FROM kisi \")\n",
    "    for kayit in kayitlar:\n",
    "        print(kayit)\n",
    "        \n",
    "def ara():\n",
    "    arama = input(\"Aranacak kişinin adı:  \")\n",
    "    aramadondur=baglanti.execute(\"SELECT * FROM kisi WHERE ad LIKE '%{}%'\".format(arama)).fetchall()\n",
    "    for i in aramadondur:\n",
    "        print(i)\n",
    "def sil():\n",
    "    ara()\n",
    "    try: \n",
    "        sil = int(input(\"Silinecek kişini ID'si: \"))\n",
    "        baglanti.execute(f\"DELETE FROM kisi WHERE id={id}\")\n",
    "        baglanti.commit()\n",
    "    except:\n",
    "        print(\"Kayıt silinmesinde hata oluştu.\")\n",
    "    finally:\n",
    "        print(\"Kayıt başarı bir şekilde silindi.\")\n",
    "def guncelle(): \n",
    "    ara()\n",
    "    sil = int(input(\"Maaşı güncellenecek kişinin ID'si: \"))\n",
    "    yeni = int(input(\"Yeni Maaşı: \"))\n",
    "    try:\n",
    "        baglanti.execute(f\"Update kisi Set maas={yeni} WHERE id={id}\")\n",
    "        baglanti.commit()\n",
    "    except:\n",
    "        print(\"Maaş güncellemesi yapılamadı.\")\n",
    "    finally:\n",
    "        print(\"Başarılı bir şekilde maaş güncellemesi yapıldı.\")\n",
    "        ara()\n",
    "\n",
    "while True:\n",
    "    print( \"-\" * 50, \"Şirketimizin Kontrol Odasına Hoşgeliniz \", \"-\" * 50)\n",
    "    secim = input(\"Ne yapmak isterseniz? \\n 1-) Kayıt Ekle \\n 2-) Kayıtları Sırala \\n 3-) Kayıt Ara \\n 4-) Kayıt Sil \\n 5-) Maaş Güncelle \\n 6-) Çıkış Yap \\n\" )\n",
    "    if secim == \"1\":\n",
    "        iste()\n",
    "    elif secim == \"2\":\n",
    "        sırala()\n",
    "    elif secim == \"3\":\n",
    "        ara()\n",
    "    elif secim == \"4\":\n",
    "        sil()\n",
    "    elif secim == \"5\":\n",
    "        guncelle()\n",
    "    elif secim == \"6\":\n",
    "        print(\"İyi günler dileriz.\")\n",
    "        break\n",
    "    else:\n",
    "        print(\"Hatalı bir tuşlama yaptınız. \")"
   ]
  },
  {
   "cell_type": "markdown",
   "id": "00b8a501",
   "metadata": {},
   "source": [
    "## "
   ]
  },
  {
   "cell_type": "code",
   "execution_count": null,
   "id": "02010aea",
   "metadata": {},
   "outputs": [],
   "source": []
  },
  {
   "cell_type": "code",
   "execution_count": null,
   "id": "cbfb50fa",
   "metadata": {},
   "outputs": [],
   "source": []
  }
 ],
 "metadata": {
  "kernelspec": {
   "display_name": "Python 3",
   "language": "python",
   "name": "python3"
  },
  "language_info": {
   "codemirror_mode": {
    "name": "ipython",
    "version": 3
   },
   "file_extension": ".py",
   "mimetype": "text/x-python",
   "name": "python",
   "nbconvert_exporter": "python",
   "pygments_lexer": "ipython3",
   "version": "3.8.8"
  }
 },
 "nbformat": 4,
 "nbformat_minor": 5
}
