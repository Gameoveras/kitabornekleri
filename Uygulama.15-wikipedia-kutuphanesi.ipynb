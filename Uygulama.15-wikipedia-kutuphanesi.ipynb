{
 "cells": [
  {
   "cell_type": "code",
   "execution_count": 19,
   "id": "4dfbd5df",
   "metadata": {},
   "outputs": [
    {
     "name": "stdout",
     "output_type": "stream",
     "text": [
      "Ne aramak istiyorsunuz: turke\n",
      "['Turke', 'Alparslan Türkeş', 'Turkey', 'John Turke', 'Tuğrul Türkeş', 'András István Türke', 'Türkeş', 'Nationalist Movement Party', 'Aldin Turkeš', 'Turkiye (disambiguation)']\n",
      "Hangisini seçmeye karar verdiniz : \n",
      " turkey\n",
      "Kaydetmek ister misiniz?(E/H): \n",
      "e\n",
      "İsmini ne olarak kaydetmek istersiniz: \n",
      " Not: boşluk ve türkçe karakter kullanmayın: \n",
      "turkey\n"
     ]
    }
   ],
   "source": [
    "import wikipedia\n",
    "import os\n",
    "\n",
    "def kaydet(a):\n",
    "    kaydets = input(\"Kaydetmek ister misiniz?(E/H): \\n\")\n",
    "    if kaydets == \"E\" or kaydets == \"e\":\n",
    "        ne = input(\"İsmini ne olarak kaydetmek istersiniz: \\n Not: boşluk ve türkçe karakter kullanmayın: \\n\")\n",
    "        dosya = open(f\"{ne}.txt\", \"w\")\n",
    "        if os.path.getsize(f'{ne}.txt') == 0:\n",
    "            with open(f'{ne}.txt', 'w', encoding='utf-8') as dosyam:\n",
    "                dosyam.write(','.join(a)) \n",
    "        else:\n",
    "            with open(f'{ne}.txt', 'a', encoding='utf-8') as dosyam:\n",
    "                dosyam.write(','.join(a)) \n",
    "    elif kaydets == \"h\" or kaydets == \"H\":\n",
    "        print(\"Program kapatıldı.\")\n",
    "    else:\n",
    "        print(\"Hatalı bir tuşlama yapıldı.\")\n",
    "    \n",
    "def wikipediar(a):\n",
    "    sonuc = wikipedia.search(arama)\n",
    "    print(sonuc)\n",
    "    secim = input(\"Hangisini seçmeye karar verdiniz : \\n \")\n",
    "    sonucs = wikipedia.page(secim)\n",
    "    kaydet(sonucs.content)\n",
    "\n",
    "arama = input(\"Ne aramak istiyorsunuz: \")\n",
    "\n",
    "wikipediar(arama)"
   ]
  },
  {
   "cell_type": "code",
   "execution_count": null,
   "id": "ca632fcb",
   "metadata": {},
   "outputs": [],
   "source": []
  },
  {
   "cell_type": "code",
   "execution_count": null,
   "id": "22de2da8",
   "metadata": {},
   "outputs": [],
   "source": []
  },
  {
   "cell_type": "code",
   "execution_count": null,
   "id": "4a35b260",
   "metadata": {},
   "outputs": [],
   "source": []
  }
 ],
 "metadata": {
  "kernelspec": {
   "display_name": "Python 3",
   "language": "python",
   "name": "python3"
  },
  "language_info": {
   "codemirror_mode": {
    "name": "ipython",
    "version": 3
   },
   "file_extension": ".py",
   "mimetype": "text/x-python",
   "name": "python",
   "nbconvert_exporter": "python",
   "pygments_lexer": "ipython3",
   "version": "3.8.8"
  }
 },
 "nbformat": 4,
 "nbformat_minor": 5
}
