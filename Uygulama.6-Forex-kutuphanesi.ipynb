{
 "cells": [
  {
   "cell_type": "code",
   "execution_count": 6,
   "id": "1e177ad3",
   "metadata": {},
   "outputs": [
    {
     "name": "stdout",
     "output_type": "stream",
     "text": [
      "-------------------------------------------------- Sungu Döviz bürosuna Hoşgeldiniz --------------------------------------------------\n",
      "1-) Türk Lirasının diğer para birimlerine karşı değerini gör.\n",
      " 2-) Paramı Dolar Yapmak İstiyorum. \n",
      "2\n",
      "kaç Türk lirası yatırmak istiyorsunuz: ?12000\n",
      "Elinize şu kadar dolar teslim edildi: $638.1812286924143\n",
      "Yaptınız işlemi not defterine kaydetmek istermisiniz(E/H): e\n",
      "2023-01-21 14:28:00.913137 Tarihinde şu kadar dolar çektiniz: 638.1812286924143\n"
     ]
    }
   ],
   "source": [
    "from forex_python.converter import CurrencyRates\n",
    "import datetime\n",
    "  \n",
    "def kaydet(kayit,kayit2):\n",
    "    if kayit2 == \"0\":\n",
    "        a = print(datetime.datetime.now(), f\"Tarihinde şu kadar dolar çektiniz: {kayit}\")\n",
    "        dosya = open(\"notdefteri.txt\", \"a\")\n",
    "        dosya.write(f\"{a}\")\n",
    "        dosya.close()\n",
    "    elif kayit2 != \"0\":\n",
    "        b = print(datetime.datetime.now(), f\" Tarihinde 1 TL'Nin değeri: {kayit2}\")\n",
    "        dosya = open(\"notdefteri.txt\", \"a\")\n",
    "        dosya.write(f\"{b}\")\n",
    "        dosya.close()   \n",
    "def dolar():\n",
    "    lira=float(input(\"kaç Türk lirası yatırmak istiyorsunuz: ?\"))\n",
    "    oranlar = CurrencyRates()\n",
    "    bos = \"0\"\n",
    "    ad = float(oranlar.get_rates(\"TRY\")[\"USD\"]*lira)\n",
    "    print(f\"Elinize şu kadar dolar teslim edildi: ${ad}\")\n",
    "    kays= input(\"Yaptınız işlemi not defterine kaydetmek istermisiniz(E/H): \")\n",
    "    if kays == \"E\" or kays == \"e\":\n",
    "        kaydet(ad,bos)\n",
    "    else:\n",
    "        pass\n",
    "def lira():\n",
    "    oranlar = CurrencyRates()\n",
    "    b = oranlar.get_rates(\"TRY\")\n",
    "    print(\"Bir 1 TL = \", b)\n",
    "    bos = \"0\"\n",
    "    kays= input(\"Yaptınız işlemi not defterine kaydetmek istermisiniz(E/H): \")\n",
    "    if kays == \"E\" or kays == \"e\":\n",
    "        kaydet(bos,b)\n",
    "    else:\n",
    "        pass\n",
    "    \n",
    "print(\"-\" * 50,\"Sungu Döviz bürosuna Hoşgeldiniz\", \"-\" * 50)\n",
    "secim = input(\"1-) Türk Lirasının diğer para birimlerine karşı değerini gör.\\n 2-) Paramı Dolar Yapmak İstiyorum. \\n\")\n",
    "if secim == \"1\":\n",
    "    lira()\n",
    "elif secim == \"2\":\n",
    "    dolar()\n",
    "else:\n",
    "    pass\n"
   ]
  },
  {
   "cell_type": "code",
   "execution_count": null,
   "id": "134b7e92",
   "metadata": {},
   "outputs": [],
   "source": []
  }
 ],
 "metadata": {
  "kernelspec": {
   "display_name": "Python 3",
   "language": "python",
   "name": "python3"
  },
  "language_info": {
   "codemirror_mode": {
    "name": "ipython",
    "version": 3
   },
   "file_extension": ".py",
   "mimetype": "text/x-python",
   "name": "python",
   "nbconvert_exporter": "python",
   "pygments_lexer": "ipython3",
   "version": "3.8.8"
  }
 },
 "nbformat": 4,
 "nbformat_minor": 5
}
