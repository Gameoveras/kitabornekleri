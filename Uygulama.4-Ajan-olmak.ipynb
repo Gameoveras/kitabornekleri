{
 "cells": [
  {
   "cell_type": "code",
   "execution_count": null,
   "id": "d7400fc7",
   "metadata": {},
   "outputs": [],
   "source": [
    "def sifrele(a):\n",
    "    b = a\n",
    "    sifre = \"\"\n",
    "    alfabe=['a','b' ,'c' , 'd', 'e', 'f', 'g' ,'h' ,'i' ,'j','k' ,'l' ,'m' ,'n' ,'o' ,'p' ,'r' ,'s' ,'t' ,'u' ,'v', 'y' ,'z']\n",
    "    for i in b:\n",
    "        sifre+=alfabe[(alfabe.index(i)+3)%len(alfabe)]\n",
    "    print(\"Şifrelenmiş hali:\",sifre)\n",
    "\n",
    "metin = input(\"metni giriniz: \")\n",
    "sifrele(metin)"
   ]
  },
  {
   "cell_type": "code",
   "execution_count": null,
   "id": "38d068bf",
   "metadata": {},
   "outputs": [],
   "source": [
    "from cryptography.fernet import Fernet\n",
    "f = Fernet(key)\n",
    "\n",
    "with open(\"2gunluk3.txt\", \"rb\") as sifrelenmis_dosya: \n",
    "        sifrele = sifrelenmis_dosya.read()\n",
    "        \n",
    "sifreyicoz = f.decrypt(sifrele)\n",
    "\n",
    "with open(\"4gunluk3.txt\", \"wb\") as sifreyicoz_dosya: \n",
    "        sifreyicoz_dosya.write(sifreyicoz)"
   ]
  },
  {
   "cell_type": "code",
   "execution_count": null,
   "id": "e4a40b65",
   "metadata": {},
   "outputs": [],
   "source": [
    "from cryptography.fernet import Fernet\n",
    "def anahtar_yaz():\n",
    "    key = Fernet.generate_key() \n",
    "    with open(\"myanh.key\", \"wb\") as myanh: \n",
    "        key_file.write(key) \n",
    "def anahtar_oku():\n",
    "    with open(\"myanh.key\", \"rb\") as myanh: \n",
    "        return myanh.read()\n",
    "f = Fernet(key)\n",
    "with open(\"gunluk3.txt\", \"rb\") as orjinal_dosya: \n",
    "        orijinal = orjinal_dosya.read()\n",
    "sifrele = f.encrypt(orijinal)\n",
    "with open(\"2gunluk3.txt\", \"wb\") as sifrelenmis_dosya: \n",
    "        sifrelenmis_dosya.write(sifrele) \n"
   ]
  },
  {
   "cell_type": "code",
   "execution_count": null,
   "id": "828578aa",
   "metadata": {},
   "outputs": [],
   "source": []
  }
 ],
 "metadata": {
  "kernelspec": {
   "display_name": "Python 3",
   "language": "python",
   "name": "python3"
  },
  "language_info": {
   "codemirror_mode": {
    "name": "ipython",
    "version": 3
   },
   "file_extension": ".py",
   "mimetype": "text/x-python",
   "name": "python",
   "nbconvert_exporter": "python",
   "pygments_lexer": "ipython3",
   "version": "3.8.8"
  }
 },
 "nbformat": 4,
 "nbformat_minor": 5
}
