{
 "cells": [
  {
   "cell_type": "code",
   "execution_count": null,
   "id": "b0a96882",
   "metadata": {},
   "outputs": [],
   "source": [
    "class kek: \n",
    "    def __init__(self,egg,sugar,milk,olion,flour,baking,vanily): \n",
    "        self.egg = egg\n",
    "        self.sugar = sugar \n",
    "        self.milk = milk \n",
    "        self.olion = olion \n",
    "        self.flour =  flour \n",
    "        self.baking = baking \n",
    "        self.vanily = vanily\n",
    "     \n",
    "    def __str__(self):\n",
    "        return f\" {self.egg} \\n  {self.sugar} \\n  {self.milk} \\n {self.olion} \\n {self.flour} \\n {self.baking} \\n {self.vanily}\"\n",
    "    \n",
    "    def sorgula():\n",
    "        sorgu1 = input(\"Yumurtayı içine attınız mı: E/H\")\n",
    "        if sorgu1 == \"E\" or sorgu1 == \"e\":\n",
    "            sorgu2= input(\"Şekeri içine attınız mı: E/H\")\n",
    "            if sorgu2 == \"E\" or sorgu2 == \"e\":\n",
    "                sorgu3= input(\"Çırpma işlemi yaptınız mı: E/H\")\n",
    "                if sorgu3 == \"E\"or sorgu3 == \"e\":\n",
    "                    print(\"Tebrikler, kek yapmak için ilk üç adımı başarıyla tamamladınız.\")\n",
    "                elif sorgu3 == \"H\" or sorgu3 == \"h\":\n",
    "                    print(\"çırpma işlemini yapınız.\")\n",
    "                else:\n",
    "                    print(\"yanlış bir tuşa tıkladınız, lütfen işleminizi tekrarlayınız.\")\n",
    "            elif sorgu2 == \"H\" or sorgu2 == \"h\":\n",
    "                print(\"Şekeri içine atınız.\")\n",
    "            else:\n",
    "                print(\"yanlış bir tuşa tıkladınız, lütfen işleminizi tekrarlayınız.\")\n",
    "        elif sorgu1 == \"H\"or sorgu1 == \"h\":\n",
    "                    print(\"Yumurtayı içine atınız.\")\n",
    "        else:\n",
    "            print(\"yanlış bir tuşa tıkladınız, lütfen işleminizi tekrarlayınız.\")\n",
    "    \n",
    "secim = input(\"kek yapmak istiyor musunuz?(E/H)\")\n",
    "\n",
    "if secim == \"E\" or secim == \"e\":\n",
    "    A = kek(\"1 adet Yumurta\",\"1 su bardağı Şeker\",\"1 su bardağı Süt\",\" 0.5 su bardağı Sıvı Yağ\",\"2.5 su bardağı Un\",\"1 paket kabartma Tozu\",\"1 paket vanilya tozu\")\n",
    "    print(\"Malzeme Listesi: \\n \", A)\n",
    "    kek.sorgula()\n",
    "    \n",
    "elif secim == \"H\" or secim == \"h\":\n",
    "        print(\"Program sonlandı.\")\n",
    "else:\n",
    "    print(\"Hatalı bir tuşlama.\")"
   ]
  }
 ],
 "metadata": {
  "kernelspec": {
   "display_name": "Python 3",
   "language": "python",
   "name": "python3"
  },
  "language_info": {
   "codemirror_mode": {
    "name": "ipython",
    "version": 3
   },
   "file_extension": ".py",
   "mimetype": "text/x-python",
   "name": "python",
   "nbconvert_exporter": "python",
   "pygments_lexer": "ipython3",
   "version": "3.8.8"
  }
 },
 "nbformat": 4,
 "nbformat_minor": 5
}
