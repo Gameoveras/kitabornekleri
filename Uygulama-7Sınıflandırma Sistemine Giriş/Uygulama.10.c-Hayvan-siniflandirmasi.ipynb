{
 "cells": [
  {
   "cell_type": "code",
   "execution_count": 79,
   "id": "a186b5d7",
   "metadata": {},
   "outputs": [
    {
     "name": "stdout",
     "output_type": "stream",
     "text": [
      "-------------------------------------------------- Hayvanlar programına hoşgeldiniz --------------------------------------------------\n",
      "Ne yapmak istiyorsunuz: \n",
      " 1-) Hayvan eklemek istiyorum  \n",
      "1\n",
      "İsim ekle: kaplan\n",
      "Resim ekle (resimadi.jpg/resimadi.png): kaplan.jpg\n",
      "Türünü  gir: memeli\n",
      "Maksimum Yaşını  gir: 10\n",
      "Neyle besleniyor: etobur\n",
      "Nerede yaşar: Sibirya ılıman ormanları\n",
      "[array(['kaplan', 'kaplan.jpg', 'memeli', '10', 'etobur',\n",
      "       'Sibirya ılıman ormanları'], dtype='<U24')]\n",
      "     isim       resim    türü Maksimum Yaş   Yemek                   Nereden\n",
      "0  kaplan  kaplan.jpg  memeli           10  etobur  Sibirya ılıman ormanları\n",
      "Verileri kaydetmek ister misiniz?(E/H): \n",
      " e\n"
     ]
    }
   ],
   "source": [
    "import numpy as np\n",
    "import pandas as pd\n",
    "import matplotlib.pyplot as plt\n",
    "import os\n",
    "from PIL import Image\n",
    "\n",
    "liste = []\n",
    "\n",
    "def kaydet(a,b):\n",
    "    verison = pd.DataFrame(a, columns= b) \n",
    "    print(verison)\n",
    "    secim = input(\"Verileri kaydetmek ister misiniz?(E/H): \\n \")\n",
    "    if secim == \"E\" or secim ==\"e\":\n",
    "        dosya = open(\"kaplan.txt\", \"r\")\n",
    "        if os.path.getsize('kaplan.txt') == 0:\n",
    "            with open('kaplan.txt', 'w', encoding='utf-8') as dosyam:\n",
    "                dosyam.write(','.join(verison)) \n",
    "        else:\n",
    "            with open('kaplan.txt', 'a', encoding='utf-8') as dosyam:\n",
    "                dosyam.write(','.join(verison)) \n",
    "    elif secim == \"h\" or secim== \"H\":\n",
    "        print(\"Çıkış yapıldı.\")\n",
    "    else:\n",
    "        print(\"Yanlış bir tuşlama yaptınız.\")\n",
    "         \n",
    "    \n",
    "def hayvanekle():\n",
    "    veriler = ['isim', 'resim','türü','Maksimum Yaş','Yemek','Nereden']\n",
    "    secim1  = input(\"İsim ekle: \")\n",
    "    secim2  =  input(\"Resim ekle (resimadi.jpg/resimadi.png): \")\n",
    "    img = Image.open(f\"{secim2}\").show()\n",
    "    secim3  = input(\"Türünü  gir: \")\n",
    "    secim4  = input(\"Maksimum Yaşını  gir: \")\n",
    "    secim5  = input(\"Neyle besleniyor: \")\n",
    "    secim6  =  input(\"Nerede yaşar: \")\n",
    "    veri = np.array([secim1,secim2,secim3,secim4,secim5,secim6])\n",
    "    liste.append(veri)\n",
    "    print(liste)\n",
    "    kaydet(liste,veriler)\n",
    "\n",
    "\n",
    "        \n",
    "def anamenu():\n",
    "    print(\"-\" * 50, \"Hayvanlar programına hoşgeldiniz\", \"-\" * 50)\n",
    "    secim = input(\"Ne yapmak istiyorsunuz: \\n 1-) Hayvan eklemek istiyorum  \\n\")\n",
    "    if secim == \"1\":\n",
    "        hayvanekle()\n",
    "    else:\n",
    "        print(\"Yanlış bir tuşlama yaptınız.\")\n",
    "            \n",
    "\n",
    "anamenu()\n"
   ]
  },
  {
   "cell_type": "code",
   "execution_count": null,
   "id": "8eb0c2a6",
   "metadata": {},
   "outputs": [],
   "source": []
  },
  {
   "cell_type": "code",
   "execution_count": null,
   "id": "9b3eb0de",
   "metadata": {},
   "outputs": [],
   "source": []
  },
  {
   "cell_type": "code",
   "execution_count": null,
   "id": "9b2d1bdc",
   "metadata": {},
   "outputs": [],
   "source": []
  },
  {
   "cell_type": "code",
   "execution_count": null,
   "id": "bdc54839",
   "metadata": {},
   "outputs": [],
   "source": []
  },
  {
   "cell_type": "code",
   "execution_count": null,
   "id": "b06afa84",
   "metadata": {},
   "outputs": [],
   "source": []
  },
  {
   "cell_type": "code",
   "execution_count": null,
   "id": "8caa59cf",
   "metadata": {},
   "outputs": [],
   "source": []
  },
  {
   "cell_type": "code",
   "execution_count": null,
   "id": "5de1f4ad",
   "metadata": {},
   "outputs": [],
   "source": []
  },
  {
   "cell_type": "code",
   "execution_count": null,
   "id": "b4413506",
   "metadata": {},
   "outputs": [],
   "source": []
  },
  {
   "cell_type": "code",
   "execution_count": null,
   "id": "2a987e94",
   "metadata": {},
   "outputs": [],
   "source": []
  },
  {
   "cell_type": "code",
   "execution_count": null,
   "id": "54f8dede",
   "metadata": {},
   "outputs": [],
   "source": [
    "d"
   ]
  },
  {
   "cell_type": "code",
   "execution_count": null,
   "id": "5c3abb40",
   "metadata": {},
   "outputs": [],
   "source": []
  },
  {
   "cell_type": "code",
   "execution_count": null,
   "id": "eee55a39",
   "metadata": {},
   "outputs": [],
   "source": [
    "dd"
   ]
  },
  {
   "cell_type": "code",
   "execution_count": null,
   "id": "1e7f43c2",
   "metadata": {},
   "outputs": [],
   "source": [
    "d"
   ]
  },
  {
   "cell_type": "code",
   "execution_count": null,
   "id": "9413dcc1",
   "metadata": {},
   "outputs": [],
   "source": []
  },
  {
   "cell_type": "code",
   "execution_count": null,
   "id": "2b4cf1e7",
   "metadata": {},
   "outputs": [],
   "source": []
  },
  {
   "cell_type": "code",
   "execution_count": null,
   "id": "2fe10122",
   "metadata": {},
   "outputs": [],
   "source": []
  },
  {
   "cell_type": "code",
   "execution_count": null,
   "id": "849997f6",
   "metadata": {},
   "outputs": [],
   "source": []
  },
  {
   "cell_type": "code",
   "execution_count": null,
   "id": "4d8026d3",
   "metadata": {},
   "outputs": [],
   "source": []
  },
  {
   "cell_type": "code",
   "execution_count": null,
   "id": "ddc6f67f",
   "metadata": {},
   "outputs": [],
   "source": []
  },
  {
   "cell_type": "code",
   "execution_count": null,
   "id": "20698247",
   "metadata": {},
   "outputs": [],
   "source": []
  },
  {
   "cell_type": "code",
   "execution_count": null,
   "id": "aa614ce0",
   "metadata": {},
   "outputs": [],
   "source": []
  },
  {
   "cell_type": "markdown",
   "id": "76414e56",
   "metadata": {},
   "source": [
    "## "
   ]
  },
  {
   "cell_type": "markdown",
   "id": "9c12aee0",
   "metadata": {},
   "source": []
  },
  {
   "cell_type": "code",
   "execution_count": null,
   "id": "ef057332",
   "metadata": {},
   "outputs": [],
   "source": []
  },
  {
   "cell_type": "code",
   "execution_count": null,
   "id": "6ea43643",
   "metadata": {},
   "outputs": [],
   "source": []
  }
 ],
 "metadata": {
  "kernelspec": {
   "display_name": "Python 3",
   "language": "python",
   "name": "python3"
  },
  "language_info": {
   "codemirror_mode": {
    "name": "ipython",
    "version": 3
   },
   "file_extension": ".py",
   "mimetype": "text/x-python",
   "name": "python",
   "nbconvert_exporter": "python",
   "pygments_lexer": "ipython3",
   "version": "3.8.8"
  }
 },
 "nbformat": 4,
 "nbformat_minor": 5
}
