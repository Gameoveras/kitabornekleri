{
 "cells": [
  {
   "cell_type": "code",
   "execution_count": 28,
   "id": "0e3f7baf",
   "metadata": {},
   "outputs": [
    {
     "name": "stdout",
     "output_type": "stream",
     "text": [
      "-------------------------------------------------- Öğrenci Sistemimize Hoşgeldiniz --------------------------------------------------\n",
      "Ne yapmak istersiniz: \n",
      " 1-) Vize Grafiklerine bak \n",
      " 2-) Final Grafiklerine bak \n",
      " 3-) Vize Final Karşılaştırması yap: \n",
      "3\n"
     ]
    },
    {
     "data": {
      "image/png": "[encoded data removed]",
      "text/plain": [
       "<Figure size 432x288 with 1 Axes>"
      ]
     },
     "metadata": {
      "needs_background": "light"
     },
     "output_type": "display_data"
    }
   ],
   "source": [
    "import matplotlib.pyplot as plt\n",
    "import numpy as np\n",
    "import pandas as pd\n",
    "\n",
    "vize = np.array([25,30,55,45,75,100,85,40,35,95])\n",
    "final = np.array([5,2,15,30,90,100,50,30,65,75])\n",
    "\n",
    "ogrenciler = np.array(['ahmet','mehmet','ali','ayse','recep','sungu','aleyna','zeynep','esra','fulya'])\n",
    "    \n",
    "def vizegrafik():\n",
    "    plt.title(\"Vize Notları\")\n",
    "    plt.xlabel(\"Öğrenciler\")\n",
    "    plt.ylabel(\"Notlar\")\n",
    "    plt.bar(ogrenciler, vize,  color=\"orange\")\n",
    "    plt.show()\n",
    "    \n",
    "def finalgrafik():\n",
    "    plt.title(\"Final Notları\")\n",
    "    plt.xlabel(\"Öğrenciler\")\n",
    "    plt.ylabel(\"Notlar\")\n",
    "    plt.bar(ogrenciler, final,  color=\"red\")\n",
    "    plt.show()\n",
    "\n",
    "def karsilastir():\n",
    "    ogrenciler_axis = np.arange(len(ogrenciler))\n",
    "    plt.bar(ogrenciler_axis - 0.2, vize, 0.4, label = 'Vizeler', color=\"orange\")\n",
    "    plt.bar(ogrenciler_axis + 0.2, final, 0.4, label = 'Finaller', color=\"red\")\n",
    "    plt.xticks(ogrenciler_axis, ogrenciler)\n",
    "    plt.xlabel(\"Öğrenciler\")\n",
    "    plt.ylabel(\"Notlar\")\n",
    "    plt.title(\"Vize - Final Karşılaştırma Tablosu\")\n",
    "    plt.legend()\n",
    "    plt.show()\n",
    "        \n",
    "def Anamenu():\n",
    "    print(\"-\" * 50, \"Öğrenci Sistemimize Hoşgeldiniz\", \"-\" * 50 )\n",
    "    secim = input(\"Ne yapmak istersiniz: \\n 1-) Vize Grafiklerine bak \\n 2-) Final Grafiklerine bak \\n 3-) Vize Final Karşılaştırması yap: \\n\")\n",
    "    if secim == \"1\":\n",
    "        vizegrafik()\n",
    "    elif secim == \"2\":\n",
    "        finalgrafik()\n",
    "    elif secim == \"3\":\n",
    "        karsilastir()\n",
    "    else:\n",
    "        print(\"Hatalı bir tuşlama yaptınız.\")\n",
    "        \n",
    "Anamenu()\n"
   ]
  },
  {
   "cell_type": "code",
   "execution_count": null,
   "id": "75697452",
   "metadata": {},
   "outputs": [],
   "source": []
  },
  {
   "cell_type": "markdown",
   "id": "055ca837",
   "metadata": {},
   "source": [
    "#### "
   ]
  },
  {
   "cell_type": "code",
   "execution_count": null,
   "id": "1365e9c4",
   "metadata": {},
   "outputs": [],
   "source": []
  }
 ],
 "metadata": {
  "kernelspec": {
   "display_name": "Python 3",
   "language": "python",
   "name": "python3"
  },
  "language_info": {
   "codemirror_mode": {
    "name": "ipython",
    "version": 3
   },
   "file_extension": ".py",
   "mimetype": "text/x-python",
   "name": "python",
   "nbconvert_exporter": "python",
   "pygments_lexer": "ipython3",
   "version": "3.8.8"
  }
 },
 "nbformat": 4,
 "nbformat_minor": 5
}
