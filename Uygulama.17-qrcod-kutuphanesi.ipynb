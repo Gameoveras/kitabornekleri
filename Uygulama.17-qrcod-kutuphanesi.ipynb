{
 "cells": [
  {
   "cell_type": "code",
   "execution_count": 1,
   "id": "a393b797",
   "metadata": {},
   "outputs": [],
   "source": [
    "import qrcode\n",
    "img = qrcode.make('Buraya tıklandı.')\n",
    "img.save(\"1.png\")"
   ]
  },
  {
   "cell_type": "code",
   "execution_count": null,
   "id": "2dc9f059",
   "metadata": {},
   "outputs": [],
   "source": [
    "import qrcode\n",
    "import random\n",
    "\n",
    "a = []\n",
    "\n",
    "for i in range(10):\n",
    "    a.append(random.randint(1, 20))\n",
    "\n",
    "sayi = int(input(\"Sayı Tahmin Et: \\n\"))\n",
    "\n",
    "if sayi in a:\n",
    "    print(\"Doğru bir seçim yapıldı.\")\n",
    "    img = qrcode.make(f'{sayi} Bu sayı listedeki sayıyla eşleşti.')\n",
    "    img.save(f\"{sayi}.png\")\n",
    "elif sayi is not a:\n",
    "    print(\"Yanlış Seçim Program sonlandı.\")\n",
    "    print(f\"Liste bu şekildeydi: \\n {a}\")\n",
    "else:\n",
    "    print(\"Hatalı bir tuşlama yaptınız.\")"
   ]
  },
  {
   "cell_type": "code",
   "execution_count": null,
   "id": "a8528ab5",
   "metadata": {},
   "outputs": [],
   "source": []
  }
 ],
 "metadata": {
  "kernelspec": {
   "display_name": "Python 3",
   "language": "python",
   "name": "python3"
  },
  "language_info": {
   "codemirror_mode": {
    "name": "ipython",
    "version": 3
   },
   "file_extension": ".py",
   "mimetype": "text/x-python",
   "name": "python",
   "nbconvert_exporter": "python",
   "pygments_lexer": "ipython3",
   "version": "3.8.8"
  }
 },
 "nbformat": 4,
 "nbformat_minor": 5
}
